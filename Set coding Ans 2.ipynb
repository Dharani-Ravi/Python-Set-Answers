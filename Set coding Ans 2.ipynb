{
 "cells": [
  {
   "cell_type": "code",
   "execution_count": 1,
   "id": "8197bcfe-245e-4082-841b-890ab47f8b96",
   "metadata": {},
   "outputs": [
    {
     "name": "stdin",
     "output_type": "stream",
     "text": [
      "enter the sentence hello\n"
     ]
    },
    {
     "name": "stdout",
     "output_type": "stream",
     "text": [
      "olleh\n"
     ]
    }
   ],
   "source": [
    "#1.Write a Python program to find the reverse of a string. Expected Output (for input \"hello\"):olleh\n",
    "n=input(\"enter the sentence\")\n",
    "print(n[::-1])"
   ]
  },
  {
   "cell_type": "code",
   "execution_count": 2,
   "id": "5b169fde-5321-4bb2-a698-7463ba1d30c8",
   "metadata": {},
   "outputs": [
    {
     "name": "stdin",
     "output_type": "stream",
     "text": [
      "Number 10\n"
     ]
    },
    {
     "name": "stdout",
     "output_type": "stream",
     "text": [
      "0 1 1 2 3 5 8 13 21 34 "
     ]
    }
   ],
   "source": [
    "#2.Python program to generate the Fibonacci sequence up to 10 terms.\n",
    "#Expected Output: 0 1 1 2 3 5 8 13 21 34\n",
    "a=0\n",
    "b=1\n",
    "n=int(input(\"Number\"))\n",
    "for i in range(n):\n",
    "    print(a,end=\" \")\n",
    "    c=a+b\n",
    "    a=b\n",
    "    b=c\n"
   ]
  },
  {
   "cell_type": "code",
   "execution_count": 3,
   "id": "7e516aaa-39b6-4dbd-8103-7b6d279646de",
   "metadata": {},
   "outputs": [],
   "source": [
    "#3.Python function to check if a given string is a palindrome.Expected Output (for input \"madam\"):\n",
    "#madam is a palindrome\n",
    "def palindrome(word):\n",
    "    if word == word[::-1]:\n",
    "        print(\"palindrome\")\n",
    "    else:\n",
    "        print(\"not palindrome\")"
   ]
  },
  {
   "cell_type": "code",
   "execution_count": 3,
   "id": "0629cb02-412c-4e01-af92-b0ea6dd5b0c1",
   "metadata": {},
   "outputs": [
    {
     "name": "stdout",
     "output_type": "stream",
     "text": [
      "palindrome\n"
     ]
    }
   ],
   "source": [
    "palindrome(\"madam\")"
   ]
  },
  {
   "cell_type": "code",
   "execution_count": 7,
   "id": "b81a6034-ec41-4c55-bb46-7817098b81bd",
   "metadata": {},
   "outputs": [
    {
     "name": "stdin",
     "output_type": "stream",
     "text": [
      "enter the word: education\n"
     ]
    },
    {
     "name": "stdout",
     "output_type": "stream",
     "text": [
      "Number of vowels:  5\n"
     ]
    }
   ],
   "source": [
    "#4.Python program to count the number of vowels in a given string. \n",
    "#Expected Output (for input \"education\"):\n",
    "#Number of vowels: 5\n",
    "n=input(\"enter the word:\")\n",
    "vowels=\"aeiouAEIOU\"\n",
    "count=0\n",
    "for letters in n:\n",
    "    if letters in vowels:\n",
    "        count+=1\n",
    "print(\"Number of vowels: \",count)"
   ]
  },
  {
   "cell_type": "code",
   "execution_count": 8,
   "id": "8b98d235-b091-4fbf-85e4-cca11995c113",
   "metadata": {},
   "outputs": [
    {
     "name": "stdout",
     "output_type": "stream",
     "text": [
      "[1, 2, 3, 4, 5]\n"
     ]
    }
   ],
   "source": [
    "#5.Python program to remove duplicates from a list.Expected Output (for input [1, 2, 2, 3, 4, 4, 5]):[1, 2, 3, 4, 5]\n",
    "input_list=[1, 2, 2, 3, 4, 4, 5]\n",
    "unique_list=list(set(input_list))\n",
    "print(unique_list)"
   ]
  }
 ],
 "metadata": {
  "kernelspec": {
   "display_name": "Python 3 (ipykernel)",
   "language": "python",
   "name": "python3"
  },
  "language_info": {
   "codemirror_mode": {
    "name": "ipython",
    "version": 3
   },
   "file_extension": ".py",
   "mimetype": "text/x-python",
   "name": "python",
   "nbconvert_exporter": "python",
   "pygments_lexer": "ipython3",
   "version": "3.12.7"
  }
 },
 "nbformat": 4,
 "nbformat_minor": 5
}
