{
 "cells": [
  {
   "cell_type": "code",
   "execution_count": 1,
   "id": "f935790b-8a8f-4c86-9e4a-84b96358ccf4",
   "metadata": {},
   "outputs": [],
   "source": [
    "#1. Square of Numbers from 1 to 5\n",
    "#Output:\n",
    "#1 4 9 16 25"
   ]
  },
  {
   "cell_type": "code",
   "execution_count": 4,
   "id": "35063fc9-367e-44d7-af97-5347e04d4388",
   "metadata": {},
   "outputs": [
    {
     "name": "stdout",
     "output_type": "stream",
     "text": [
      "1 4 9 16 25 "
     ]
    }
   ],
   "source": [
    "for numbers in range(1,6):\n",
    "    square = numbers*numbers\n",
    "    print(square,end=\" \")"
   ]
  },
  {
   "cell_type": "code",
   "execution_count": 6,
   "id": "bb66bd7a-eca9-4962-8da3-92f2eaedcbd7",
   "metadata": {},
   "outputs": [],
   "source": [
    "#2.Swap Two Variables Without Using a Temporary Variable\n",
    "#Question: Write a Python program to swap two variables a = 5 and b = 10 without using a temporary variable.\n"
   ]
  },
  {
   "cell_type": "code",
   "execution_count": 8,
   "id": "f58f5803-a066-4639-a83b-3e3365e28238",
   "metadata": {},
   "outputs": [
    {
     "name": "stdout",
     "output_type": "stream",
     "text": [
      "10 5\n"
     ]
    }
   ],
   "source": [
    "a=5\n",
    "b=10\n",
    "a,b=b,a\n",
    "print(a,b)"
   ]
  },
  {
   "cell_type": "code",
   "execution_count": 10,
   "id": "8017459a-37ee-48dc-b687-1d1216664342",
   "metadata": {},
   "outputs": [],
   "source": [
    " #3.Find Even and Odd Numbers in a List\n",
    "#Question: Write a Python program to separate even and odd numbers from the list [12, 17, 19, 24, 35, 40, 56]"
   ]
  },
  {
   "cell_type": "code",
   "execution_count": 25,
   "id": "ff92f30d-772c-4640-bb90-71b7a96daec2",
   "metadata": {},
   "outputs": [
    {
     "name": "stdout",
     "output_type": "stream",
     "text": [
      "Even [12, 24, 40, 56]\n",
      "odd [17, 19, 35]\n"
     ]
    }
   ],
   "source": [
    "lists=[12, 17, 19, 24, 35, 40, 56]\n",
    "even=[]\n",
    "odd=[]\n",
    "for number in lists:\n",
    "    if number%2 == 0:\n",
    "        even.append(number)\n",
    "    else:\n",
    "        odd.append(number)\n",
    "print(\"Even\",even)\n",
    "print(\"odd\",odd)"
   ]
  },
  {
   "cell_type": "code",
   "execution_count": 26,
   "id": "c1adde35-f8ad-4cc6-965d-410e2d2a35aa",
   "metadata": {},
   "outputs": [],
   "source": [
    "#4. Reverse a Number\n",
    "#Question: Write a Python program to reverse the number 12345."
   ]
  },
  {
   "cell_type": "code",
   "execution_count": 36,
   "id": "e5a387cf-0aa8-4b88-9ca3-41ae40d39f3c",
   "metadata": {},
   "outputs": [
    {
     "name": "stdout",
     "output_type": "stream",
     "text": [
      "54321\n"
     ]
    }
   ],
   "source": [
    "number=\"12345\"\n",
    "number=number[::-1]\n",
    "print(number)"
   ]
  },
  {
   "cell_type": "code",
   "execution_count": 37,
   "id": "91372b16-40c2-4d27-80f9-6390c03c6872",
   "metadata": {},
   "outputs": [],
   "source": [
    "#5. Find the Second Largest Number in a List\n",
    "#Question: Write a Python program to find the second largest number in the list [12, 45, 98, 34, 23]."
   ]
  },
  {
   "cell_type": "code",
   "execution_count": 45,
   "id": "78160fc3-8f4e-4a9f-b87f-5a7d8a1a4a94",
   "metadata": {},
   "outputs": [
    {
     "name": "stdout",
     "output_type": "stream",
     "text": [
      "Second Largest: 45\n"
     ]
    }
   ],
   "source": [
    "list= [12, 45, 98, 34, 23]\n",
    "list.sort(reverse=True)\n",
    "print(\"Second Largest:\",list[1])"
   ]
  },
  {
   "cell_type": "code",
   "execution_count": null,
   "id": "09e3a755-b267-4537-b5d9-489c0c1c149b",
   "metadata": {},
   "outputs": [],
   "source": []
  }
 ],
 "metadata": {
  "kernelspec": {
   "display_name": "Python 3 (ipykernel)",
   "language": "python",
   "name": "python3"
  },
  "language_info": {
   "codemirror_mode": {
    "name": "ipython",
    "version": 3
   },
   "file_extension": ".py",
   "mimetype": "text/x-python",
   "name": "python",
   "nbconvert_exporter": "python",
   "pygments_lexer": "ipython3",
   "version": "3.12.7"
  }
 },
 "nbformat": 4,
 "nbformat_minor": 5
}
