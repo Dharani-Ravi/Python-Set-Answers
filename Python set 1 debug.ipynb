{
 "cells": [
  {
   "cell_type": "code",
   "execution_count": 11,
   "id": "9220a63b-8c0f-4afa-9bc8-f925eb6eff1a",
   "metadata": {},
   "outputs": [],
   "source": [
    "#1.Find the error in the following Python code:\n",
    "for i in range(5)\n",
    "print(i)"
   ]
  },
  {
   "cell_type": "code",
   "execution_count": 2,
   "id": "72990a26-6150-4087-bf03-ce5d7e78fe2d",
   "metadata": {},
   "outputs": [
    {
     "name": "stdout",
     "output_type": "stream",
     "text": [
      "0\n",
      "1\n",
      "2\n",
      "3\n",
      "4\n"
     ]
    }
   ],
   "source": [
    "#Ans:\n",
    "for i in range(5):\n",
    "   print(i)"
   ]
  },
  {
   "cell_type": "code",
   "execution_count": null,
   "id": "4af7f264-51cc-451c-989f-84a06eae901a",
   "metadata": {},
   "outputs": [],
   "source": [
    "#2.What will be the output of this code?\n",
    "\n",
    "a = 10\n",
    "b = \"5\"\n",
    "print(a + b)"
   ]
  },
  {
   "cell_type": "code",
   "execution_count": 3,
   "id": "0c8a216d-5495-4d4a-90f0-82c8691ddeeb",
   "metadata": {},
   "outputs": [
    {
     "name": "stdout",
     "output_type": "stream",
     "text": [
      "15\n"
     ]
    }
   ],
   "source": [
    "#Ans:\n",
    "a = 10\n",
    "b = 5\n",
    "print(a+b)"
   ]
  },
  {
   "cell_type": "code",
   "execution_count": null,
   "id": "65a67e1a-fe77-4cf6-a684-48cf3b74b70d",
   "metadata": {},
   "outputs": [],
   "source": [
    "#3.What is the issue in this Python snippet?\n",
    " def add_numbers(a, b)\n",
    "    return a + b\n"
   ]
  },
  {
   "cell_type": "code",
   "execution_count": 4,
   "id": "2fae1566-fb88-421b-a7e5-7875ada17d6b",
   "metadata": {},
   "outputs": [
    {
     "data": {
      "text/plain": [
       "15"
      ]
     },
     "execution_count": 4,
     "metadata": {},
     "output_type": "execute_result"
    }
   ],
   "source": [
    "#Ans:\n",
    "def add_numbers(a,b):\n",
    "   return a+b\n",
    "\n",
    "add_numbers(a,b)"
   ]
  },
  {
   "cell_type": "code",
   "execution_count": null,
   "id": "ca2ec7fc-c0a0-4a62-afeb-5bc7087af70b",
   "metadata": {},
   "outputs": [],
   "source": [
    "#4.Identify the bug in the following Python code:\n",
    "\n",
    " numbers = [1, 2, 3, 4]\n",
    "print(numbers[4])\n"
   ]
  },
  {
   "cell_type": "code",
   "execution_count": 5,
   "id": "b520dc5f-7c68-49da-87a9-817ce3573367",
   "metadata": {},
   "outputs": [
    {
     "name": "stdout",
     "output_type": "stream",
     "text": [
      "4\n"
     ]
    }
   ],
   "source": [
    "#Ans:\n",
    "numbers = [1, 2, 3, 4]\n",
    "print(numbers[3])"
   ]
  },
  {
   "cell_type": "code",
   "execution_count": null,
   "id": "f042a32e-628e-4ec9-943f-3a4edb05236a",
   "metadata": {},
   "outputs": [],
   "source": [
    "#5.Find the error in the following Python code:\n",
    "print \"Hello, World!\""
   ]
  },
  {
   "cell_type": "code",
   "execution_count": null,
   "id": "55d8e6b8-dc20-476e-8301-72ce989333de",
   "metadata": {},
   "outputs": [],
   "source": [
    "#Ans:\n",
    "print(\"Hello, World!\")"
   ]
  },
  {
   "cell_type": "code",
   "execution_count": null,
   "id": "4bc0dc6f-a341-47db-9efb-4e86dd866f3d",
   "metadata": {},
   "outputs": [],
   "source": [
    "#6.Find the error in the following Python code:\n",
    "x = 5 / 0"
   ]
  },
  {
   "cell_type": "code",
   "execution_count": 6,
   "id": "b20a3e4f-c066-4958-b09a-715d8b6417e9",
   "metadata": {},
   "outputs": [
    {
     "name": "stdout",
     "output_type": "stream",
     "text": [
      "0.0\n"
     ]
    }
   ],
   "source": [
    "#Ans:\n",
    "x=0/5\n",
    "print(x)"
   ]
  },
  {
   "cell_type": "code",
   "execution_count": null,
   "id": "549e965e-facf-41ad-8620-b277bb24bc3a",
   "metadata": {},
   "outputs": [],
   "source": [
    "#7.Find the error in the following Python code:name = \"Alice\"\n",
    "age = 25\n",
    "print(\"Name: \" + name + \", Age: \" + age)"
   ]
  },
  {
   "cell_type": "code",
   "execution_count": 7,
   "id": "b48419f0-620e-40d3-9d61-e576cf841d19",
   "metadata": {},
   "outputs": [
    {
     "name": "stdout",
     "output_type": "stream",
     "text": [
      "Name: ALICE , Age:25\n"
     ]
    }
   ],
   "source": [
    "#Ans:\n",
    "name=\"ALICE\"\n",
    "age = 25\n",
    "print(f\"Name: {name} , Age:{age}\")"
   ]
  },
  {
   "cell_type": "code",
   "execution_count": null,
   "id": "1d86b100-1c1f-4b61-9b46-36adec86a7ac",
   "metadata": {},
   "outputs": [],
   "source": [
    "#8.Find the error\n",
    "for i in range(1, 10, -1):\n",
    "    print(i)\n"
   ]
  },
  {
   "cell_type": "code",
   "execution_count": 8,
   "id": "dda10fb8-0a44-4563-8011-f49eb119d8d4",
   "metadata": {},
   "outputs": [
    {
     "name": "stdout",
     "output_type": "stream",
     "text": [
      "10\n",
      "9\n",
      "8\n",
      "7\n",
      "6\n",
      "5\n",
      "4\n",
      "3\n",
      "2\n",
      "1\n"
     ]
    }
   ],
   "source": [
    "#ANS:\n",
    "for i in range(10,0,-1):\n",
    "    print(i)"
   ]
  },
  {
   "cell_type": "code",
   "execution_count": null,
   "id": "a2d25cf6-634d-411b-809f-36d1aa8cc126",
   "metadata": {},
   "outputs": [],
   "source": [
    "#9. Find the error in the following Python code:\n",
    "x = 10\n",
    "if x = 5:\n",
    "    print(\"x is 5\")"
   ]
  },
  {
   "cell_type": "code",
   "execution_count": 9,
   "id": "8705c00e-d3fc-41f2-943e-f61cf66dae75",
   "metadata": {},
   "outputs": [
    {
     "name": "stdout",
     "output_type": "stream",
     "text": [
      "x is 10\n"
     ]
    }
   ],
   "source": [
    "#ANS:\n",
    "x = 10\n",
    "if x == 5:\n",
    "    print(\"x is 5\")\n",
    "else:\n",
    "    print(\"x is 10\")"
   ]
  },
  {
   "cell_type": "code",
   "execution_count": null,
   "id": "94ff85b7-1521-46cc-8420-ba38e513e968",
   "metadata": {},
   "outputs": [],
   "source": [
    "#10. Identify the error in the following function definition:\n",
    "\n",
    "def greet(name)\n",
    "    print(\"Hello, \" + name)\n"
   ]
  },
  {
   "cell_type": "code",
   "execution_count": 10,
   "id": "24999942-0f5e-48a6-9868-4f938a23d607",
   "metadata": {},
   "outputs": [
    {
     "name": "stdout",
     "output_type": "stream",
     "text": [
      "Hello, HARI\n"
     ]
    }
   ],
   "source": [
    "#ANS:\n",
    "def greet(name):\n",
    "    print(\"Hello, \" + name)\n",
    "\n",
    "greet(\"HARI\")"
   ]
  },
  {
   "cell_type": "code",
   "execution_count": null,
   "id": "053c5e06-d012-4186-ba68-aa841587b96e",
   "metadata": {},
   "outputs": [],
   "source": []
  }
 ],
 "metadata": {
  "kernelspec": {
   "display_name": "Python 3 (ipykernel)",
   "language": "python",
   "name": "python3"
  },
  "language_info": {
   "codemirror_mode": {
    "name": "ipython",
    "version": 3
   },
   "file_extension": ".py",
   "mimetype": "text/x-python",
   "name": "python",
   "nbconvert_exporter": "python",
   "pygments_lexer": "ipython3",
   "version": "3.12.7"
  }
 },
 "nbformat": 4,
 "nbformat_minor": 5
}
