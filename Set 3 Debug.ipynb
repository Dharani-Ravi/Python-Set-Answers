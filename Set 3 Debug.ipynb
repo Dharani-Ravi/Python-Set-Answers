{
 "cells": [
  {
   "cell_type": "code",
   "execution_count": null,
   "id": "264a82fd-562c-4ba1-a210-23cca5c114ea",
   "metadata": {},
   "outputs": [],
   "source": [
    "#1.What is wrong with the following function definition, and how do you fix it?\n",
    "#def say_hello(name)\n",
    "    print(\"Hello, \" + name)"
   ]
  },
  {
   "cell_type": "code",
   "execution_count": 2,
   "id": "eb45d54c-5bea-40b0-8cc1-8b75cf159b23",
   "metadata": {},
   "outputs": [],
   "source": [
    "def say_hello(name):\n",
    "    print(\"Hello, \"+name)"
   ]
  },
  {
   "cell_type": "code",
   "execution_count": 3,
   "id": "120ee01d-879f-4c20-be3d-fae43369ede9",
   "metadata": {},
   "outputs": [
    {
     "name": "stdout",
     "output_type": "stream",
     "text": [
      "Hello, harry\n"
     ]
    }
   ],
   "source": [
    " say_hello(\"harry\")"
   ]
  },
  {
   "cell_type": "code",
   "execution_count": null,
   "id": "1ba74848-1dbc-430c-8ece-57dd94426ba1",
   "metadata": {},
   "outputs": [],
   "source": [
    "#2.What error will occur in the following code, and how do you fix it?\n",
    "#age = 25\n",
    "#print(\"I am \" + age + \" years old\")"
   ]
  },
  {
   "cell_type": "code",
   "execution_count": 7,
   "id": "489db876-780e-4f46-a5b3-18a8cff18a5e",
   "metadata": {},
   "outputs": [
    {
     "name": "stdout",
     "output_type": "stream",
     "text": [
      "I am 25  years old\n"
     ]
    }
   ],
   "source": [
    "age=25\n",
    "print(f\"I am {age}  years old\")"
   ]
  },
  {
   "cell_type": "code",
   "execution_count": null,
   "id": "275f73bb-655c-4267-a221-ffa8d67b9b73",
   "metadata": {},
   "outputs": [],
   "source": [
    "#3.Question:\n",
    "What is the issue with the following code?\n",
    "#def greet():\n",
    "    #message = \"Hello\"\n",
    "#print(message)"
   ]
  },
  {
   "cell_type": "code",
   "execution_count": 8,
   "id": "f3aff543-d1db-4b6a-ba23-923591f4a830",
   "metadata": {},
   "outputs": [
    {
     "name": "stdout",
     "output_type": "stream",
     "text": [
      "Hello\n"
     ]
    }
   ],
   "source": [
    "def greet():\n",
    "    message = \"Hello\"\n",
    "    print(message)\n",
    "\n",
    "greet()"
   ]
  },
  {
   "cell_type": "code",
   "execution_count": null,
   "id": "23f75f66-4d8c-40a7-8bf9-13179a2b1a82",
   "metadata": {},
   "outputs": [],
   "source": [
    "#4.What error will occur in the following code, and how do you fix it?\n",
    "#def add(a, b):\n",
    "    return a + b\n",
    "print(add(5))\n"
   ]
  },
  {
   "cell_type": "code",
   "execution_count": 9,
   "id": "01751749-c033-4792-82db-cdfa171b4c9d",
   "metadata": {},
   "outputs": [
    {
     "data": {
      "text/plain": [
       "8"
      ]
     },
     "execution_count": 9,
     "metadata": {},
     "output_type": "execute_result"
    }
   ],
   "source": [
    "def add(a,b):\n",
    "    return a+b\n",
    "\n",
    "add(5,3)"
   ]
  },
  {
   "cell_type": "code",
   "execution_count": null,
   "id": "bf073b9e-225d-4756-b075-6a623319077e",
   "metadata": {},
   "outputs": [],
   "source": [
    "#5.What is wrong with this code?\n",
    "\n",
    "#def is_even(n):\n",
    "    if n % 2 == 1:\n",
    "        return True\n",
    "    else:\n",
    "        return False\n"
   ]
  },
  {
   "cell_type": "code",
   "execution_count": 10,
   "id": "d625a985-7a3e-4fba-91d7-a1d26c7c0f9c",
   "metadata": {},
   "outputs": [
    {
     "data": {
      "text/plain": [
       "True"
      ]
     },
     "execution_count": 10,
     "metadata": {},
     "output_type": "execute_result"
    }
   ],
   "source": [
    "\n",
    "#Ans:\n",
    "def is_even(n):\n",
    "    if n%2 == 0:\n",
    "        return True\n",
    "    else:\n",
    "        return False\n",
    "\n",
    "is_even(4)"
   ]
  },
  {
   "cell_type": "code",
   "execution_count": null,
   "id": "353a5942-dd7e-474d-b462-d295e5e18458",
   "metadata": {},
   "outputs": [],
   "source": [
    "#6.What happens when you run this code?\n",
    "\n",
    "num = int(\"10a\")\n",
    "print(num)\n",
    "\n",
    "#it throws value error for int\n"
   ]
  },
  {
   "cell_type": "code",
   "execution_count": 11,
   "id": "b7cbe53e-efde-4c28-ac67-fe96ad0f0477",
   "metadata": {},
   "outputs": [
    {
     "name": "stdout",
     "output_type": "stream",
     "text": [
      "10\n"
     ]
    }
   ],
   "source": [
    "#Ans:\n",
    "num=int(\"10\")\n",
    "print(num)"
   ]
  },
  {
   "cell_type": "code",
   "execution_count": null,
   "id": "baf2257e-8de3-4068-8dbe-e19703c4cdfc",
   "metadata": {},
   "outputs": [],
   "source": [
    "#7.What will happen when you run the following code?\n",
    "\n",
    "\n",
    "numbers = [1, 2, 3, 4]\n",
    "numbers.sort().reverse()\n",
    "print(numbers)\n"
   ]
  },
  {
   "cell_type": "code",
   "execution_count": 12,
   "id": "b67280bf-2f6f-4eaa-b161-2d9326759b35",
   "metadata": {},
   "outputs": [
    {
     "name": "stdout",
     "output_type": "stream",
     "text": [
      "[4, 3, 2, 1]\n"
     ]
    }
   ],
   "source": [
    "#Ans:\n",
    "numbers = [1,2,3,4]\n",
    "numbers.sort()\n",
    "numbers.reverse()\n",
    "print(numbers)"
   ]
  },
  {
   "cell_type": "code",
   "execution_count": null,
   "id": "447322d5-a9ed-41b8-a787-abbeca8ea7e4",
   "metadata": {},
   "outputs": [],
   "source": [
    "#8.What is the issue with this code?\n",
    "\n",
    "\n",
    "numbers = [1, 2, 3]\n",
    "numbers = numbers.append(4)\n",
    "print(numbers)\n"
   ]
  },
  {
   "cell_type": "code",
   "execution_count": 14,
   "id": "e47f3b39-9cec-4b59-a10c-c4e4c460c3a8",
   "metadata": {},
   "outputs": [
    {
     "name": "stdout",
     "output_type": "stream",
     "text": [
      "[1, 2, 3, 4]\n"
     ]
    }
   ],
   "source": [
    "#Ans:\n",
    "numbers = [1,2,3]\n",
    "numbers.append(4)\n",
    "print(numbers)\n",
    "\n"
   ]
  },
  {
   "cell_type": "code",
   "execution_count": null,
   "id": "3aba7073-511c-4fa2-b5cd-81335f72fd6e",
   "metadata": {},
   "outputs": [],
   "source": [
    "#9.What will happen when you run the following code?\n",
    "\n",
    "\n",
    "count = 10\n",
    "\n",
    "def increment():\n",
    "    count += 1\n",
    "    print(count)\n",
    "\n",
    "increment()\n",
    "\n"
   ]
  },
  {
   "cell_type": "code",
   "execution_count": 16,
   "id": "d1fb1bf2-ab26-401d-9211-b6595243a6e8",
   "metadata": {},
   "outputs": [
    {
     "name": "stdout",
     "output_type": "stream",
     "text": [
      "11\n"
     ]
    }
   ],
   "source": [
    "#Ans:\n",
    "def increment():\n",
    "    count=10\n",
    "    count+=1\n",
    "    print(count)\n",
    "increment()"
   ]
  },
  {
   "cell_type": "code",
   "execution_count": null,
   "id": "36f85c36-3c30-4113-bff2-2e44e7784073",
   "metadata": {},
   "outputs": [],
   "source": [
    "#10.What error will occur in the following code?\n",
    "\n",
    "text = \"Python\"\n",
    "print(text[10])\n",
    "\n",
    "#index error since it has only 6 letters \n"
   ]
  },
  {
   "cell_type": "code",
   "execution_count": 17,
   "id": "3bd0e418-8b78-402c-b209-716efd44d276",
   "metadata": {},
   "outputs": [
    {
     "name": "stdout",
     "output_type": "stream",
     "text": [
      "n\n"
     ]
    }
   ],
   "source": [
    "#ANs:\n",
    "text = \"python\"\n",
    "print(text[5])"
   ]
  },
  {
   "cell_type": "code",
   "execution_count": null,
   "id": "97210213-3a77-4271-adec-e71ef9245b3e",
   "metadata": {},
   "outputs": [],
   "source": []
  }
 ],
 "metadata": {
  "kernelspec": {
   "display_name": "Python 3 (ipykernel)",
   "language": "python",
   "name": "python3"
  },
  "language_info": {
   "codemirror_mode": {
    "name": "ipython",
    "version": 3
   },
   "file_extension": ".py",
   "mimetype": "text/x-python",
   "name": "python",
   "nbconvert_exporter": "python",
   "pygments_lexer": "ipython3",
   "version": "3.12.7"
  }
 },
 "nbformat": 4,
 "nbformat_minor": 5
}
