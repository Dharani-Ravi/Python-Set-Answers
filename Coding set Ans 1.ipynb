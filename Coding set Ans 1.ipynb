{
 "cells": [
  {
   "cell_type": "code",
   "execution_count": 1,
   "id": "5a4a9119-5446-425b-af70-0379ccdd4f69",
   "metadata": {},
   "outputs": [
    {
     "name": "stdout",
     "output_type": "stream",
     "text": [
      "1 2 3 4 5 "
     ]
    }
   ],
   "source": [
    "#1.Python program that prints numbers from 1 to 5.Expected Output:1 2 3 4 5\n",
    "for i in range(1,6):\n",
    "    print(i,end=\" \")"
   ]
  },
  {
   "cell_type": "code",
   "execution_count": 2,
   "id": "5518dee9-7eae-4cc4-9bd3-54f5935638de",
   "metadata": {},
   "outputs": [
    {
     "name": "stdout",
     "output_type": "stream",
     "text": [
      "2 4 6 8 10 "
     ]
    }
   ],
   "source": [
    "#2.Python program to print the first 5 even numbers. Expected Output:2 4 6 8 10\n",
    "for i in range(2, 11, 2):\n",
    "    print(i, end=\" \")"
   ]
  },
  {
   "cell_type": "code",
   "execution_count": 3,
   "id": "c958f0d7-cea1-424f-9df9-26f02e89f3e9",
   "metadata": {},
   "outputs": [
    {
     "name": "stdout",
     "output_type": "stream",
     "text": [
      "55\n"
     ]
    }
   ],
   "source": [
    "#3.a Python program to print the sum of numbers from 1 to 10. Expected Output:55\n",
    "total=0\n",
    "for number in range(1,11):\n",
    "    total=total+number\n",
    "print(total)"
   ]
  },
  {
   "cell_type": "code",
   "execution_count": 4,
   "id": "eabe403c-640f-41c9-a1b1-e7540a0c6243",
   "metadata": {},
   "outputs": [],
   "source": [
    "#4.Python function to find the factorial of 5. Expected Output:120\n",
    "def factorial(n):\n",
    "    if n==0:\n",
    "        return 1\n",
    "    else:\n",
    "        return n*factorial(n-1)"
   ]
  },
  {
   "cell_type": "code",
   "execution_count": 5,
   "id": "4afde4f3-ecad-4029-90ff-ec78991f5971",
   "metadata": {},
   "outputs": [
    {
     "data": {
      "text/plain": [
       "120"
      ]
     },
     "execution_count": 5,
     "metadata": {},
     "output_type": "execute_result"
    }
   ],
   "source": [
    "factorial(5)"
   ]
  },
  {
   "cell_type": "code",
   "execution_count": 6,
   "id": "936aa96d-6b0e-4cbf-bba1-cadc26eea6e3",
   "metadata": {},
   "outputs": [],
   "source": [
    "#5.Python program to check if a number is prime. Expected Output (for input 7):7 is a prime number\n",
    "def primenumbers(n):\n",
    "    if n<2:\n",
    "        return False\n",
    "    for i in range(2,int(n**0.5)+1):\n",
    "        if n%i==0:\n",
    "            return False\n",
    "    else:\n",
    "        print(\"prime\")"
   ]
  },
  {
   "cell_type": "code",
   "execution_count": 7,
   "id": "2d7824c2-b682-4b77-9a96-a3d61cbb2502",
   "metadata": {},
   "outputs": [
    {
     "name": "stdout",
     "output_type": "stream",
     "text": [
      "prime\n"
     ]
    }
   ],
   "source": [
    "primenumbers(7)"
   ]
  },
  {
   "cell_type": "code",
   "execution_count": null,
   "id": "2a016cb8-9129-403f-a0c1-8e98c74f1f67",
   "metadata": {},
   "outputs": [],
   "source": []
  }
 ],
 "metadata": {
  "kernelspec": {
   "display_name": "Python 3 (ipykernel)",
   "language": "python",
   "name": "python3"
  },
  "language_info": {
   "codemirror_mode": {
    "name": "ipython",
    "version": 3
   },
   "file_extension": ".py",
   "mimetype": "text/x-python",
   "name": "python",
   "nbconvert_exporter": "python",
   "pygments_lexer": "ipython3",
   "version": "3.12.7"
  }
 },
 "nbformat": 4,
 "nbformat_minor": 5
}
